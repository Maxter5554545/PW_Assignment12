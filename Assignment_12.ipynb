{
 "cells": [
  {
   "cell_type": "code",
   "execution_count": 5,
   "id": "7d582586-7ce8-42af-a252-71dc135c2daf",
   "metadata": {},
   "outputs": [
    {
     "name": "stdout",
     "output_type": "stream",
     "text": [
      " 'Open()' function is used to open a file. Different modes of opening a file are :- read mode, write mode, append mode, binary mode, text mode, Universal new line mode.\n",
      "\n",
      "read mode 'r' =>      open for reading \n",
      "write mode 'w' =>      open for writing, truncating the file first\n",
      "append mode 'a' =>      open for writing, appending to the end of the file if it exists\n",
      "binary mode 'b' =>      binary mode\n",
      "text mode 't' =>      text mode\n",
      "Universal mode 'U' =>      universal newline mode \n"
     ]
    }
   ],
   "source": [
    "# Q1. Which function is used to open a file? What are the different modes of opening a file? Explain each mode\n",
    "# of file opening.\n",
    "\n",
    "print(''' 'Open()' function is used to open a file. Different modes of opening a file are :- read mode, write mode, append mode, binary mode, text mode, Universal new line mode.\n",
    "\n",
    "read mode 'r' =>      open for reading \n",
    "write mode 'w' =>      open for writing, truncating the file first\n",
    "append mode 'a' =>      open for writing, appending to the end of the file if it exists\n",
    "binary mode 'b' =>      binary mode\n",
    "text mode 't' =>      text mode\n",
    "Universal mode 'U' =>      universal newline mode ''')"
   ]
  },
  {
   "cell_type": "code",
   "execution_count": null,
   "id": "8c5dbf1c-092d-4506-b8dd-eb105eff4380",
   "metadata": {},
   "outputs": [],
   "source": [
    "# Q2. Why close() function is used? Why is it important to close a file?\n",
    "print(\"Close function is used to execute the file function it is mostly used in write mode. It is important to close because if we don't close it'll not overwrite the text\")"
   ]
  },
  {
   "cell_type": "code",
   "execution_count": 9,
   "id": "ff03cd5c-99d2-43d7-a348-bd4038c6e8b2",
   "metadata": {},
   "outputs": [
    {
     "name": "stdout",
     "output_type": "stream",
     "text": [
      "I want to become a Data Scientist\n"
     ]
    }
   ],
   "source": [
    "# Q3. Write a python program to create a text file. Write ‘I want to become a Data Scientist’ in that file. Then\n",
    "# close the file. Open this file and read the content of the file.\n",
    "\n",
    "#program for text file\n",
    "\n",
    "with open('pw.txt', 'w') as f:#creating a file & writing on it\n",
    "    f.write('I want to become a Data Scientist')\n",
    "    f.close()\n",
    "    \n",
    "with open('pw.txt', 'r') as g: #Reading the content of the file\n",
    "    print(g.read())"
   ]
  },
  {
   "cell_type": "code",
   "execution_count": 10,
   "id": "a229cfa2-cff4-4e04-bf1d-2a49d98275f4",
   "metadata": {},
   "outputs": [
    {
     "name": "stdout",
     "output_type": "stream",
     "text": [
      "read() => read() function is used to read the content in the form of strings in the given file\n",
      "readline() => readline() function is used to read a single line of the content in the file\n",
      "readlines() => readlines() function is used to read multiple line of the content & returns each line as a list in the given code\n"
     ]
    }
   ],
   "source": [
    "# Q4. Explain the following with python code: read(), readline() and readlines().\n",
    "print(\"read() => read() function is used to read the content in the form of strings in the given file\\nreadline() => readline() function is used to read a single line of the content in the file\\nreadlines() => readlines() function is used to read multiple line of the content & returns each line as a list in the given code\")"
   ]
  },
  {
   "cell_type": "code",
   "execution_count": 11,
   "id": "6b56b328-b608-4095-8b9b-aeb82f86cc56",
   "metadata": {},
   "outputs": [
    {
     "name": "stdout",
     "output_type": "stream",
     "text": [
      "The with statement in Python is used in conjunction with the open() function to manage the opening and closing of files\n"
     ]
    }
   ],
   "source": [
    "# Q5. Explain why with statement is used with open(). What is the advantage of using with statement and\n",
    "# open() together?\n",
    "\n",
    "print(\"The with statement in Python is used in conjunction with the open() function to manage the opening and closing of files\")\n",
    "print(\"The advantage of with statement & open() together is Automatically manages the resourse, Exception Handling & cleaner code\")"
   ]
  },
  {
   "cell_type": "code",
   "execution_count": null,
   "id": "412648dc-849c-40ec-a18f-e82057623f10",
   "metadata": {},
   "outputs": [],
   "source": [
    "# Q6. Explain the write() and writelines() functions. Give a suitable example.\n",
    "\n",
    "print(\"The 'write()' command is used to write single  string & overwrites if we executes it again while the 'writelines()' is used to  write the lines into the list.\")"
   ]
  }
 ],
 "metadata": {
  "kernelspec": {
   "display_name": "Python 3 (ipykernel)",
   "language": "python",
   "name": "python3"
  },
  "language_info": {
   "codemirror_mode": {
    "name": "ipython",
    "version": 3
   },
   "file_extension": ".py",
   "mimetype": "text/x-python",
   "name": "python",
   "nbconvert_exporter": "python",
   "pygments_lexer": "ipython3",
   "version": "3.10.8"
  }
 },
 "nbformat": 4,
 "nbformat_minor": 5
}
